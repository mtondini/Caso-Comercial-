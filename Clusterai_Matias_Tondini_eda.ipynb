{
 "cells": [
  {
   "cell_type": "markdown",
   "metadata": {},
   "source": [
    "# ClusterAl 2020\n",
    "\n",
    "\n",
    "# Ciencia de Datos - Ingenieria Industrial UTN BA\n",
    "# Curso I5521\n",
    "# EDA del Caso comercial de venta de refrigerante\n",
    "\n",
    "#### Docente: Martin Palazzo\n",
    "#### Ayudante: Agustin Velazquez\n",
    "\n",
    "\n",
    "\n",
    "##### Alumnos: Contreras, Manuel\n",
    "#####                   De Leo, Andres\n",
    "#####                   Tondini, Eduardo Matias"
   ]
  },
  {
   "cell_type": "markdown",
   "metadata": {},
   "source": [
    "# 1-Importacion de Librerias"
   ]
  },
  {
   "cell_type": "markdown",
   "metadata": {},
   "source": [
    "### Librerias basicas"
   ]
  },
  {
   "cell_type": "code",
   "execution_count": 42,
   "metadata": {},
   "outputs": [],
   "source": [
    "import numpy as np\n",
    "import pandas as pd\n",
    "import matplotlib.pyplot as plt\n",
    "import seaborn as sns"
   ]
  },
  {
   "cell_type": "markdown",
   "metadata": {},
   "source": [
    "### Librerias de Scikit Learn para distintos modelos de clasificacion"
   ]
  },
  {
   "cell_type": "code",
   "execution_count": 43,
   "metadata": {},
   "outputs": [],
   "source": [
    "from sklearn.linear_model import Lasso, LogisticRegression\n",
    "from sklearn import svm\n",
    "from sklearn.svm import SVC\n",
    "from sklearn.model_selection import train_test_split\n",
    "from sklearn.metrics import accuracy_score\n",
    "from sklearn.model_selection import cross_val_score\n",
    "from sklearn.metrics import roc_curve, auc\n",
    "from sklearn import metrics\n",
    "from sklearn.model_selection import GridSearchCV\n",
    "from sklearn.metrics import confusion_matrix\n",
    "from sklearn import preprocessing\n",
    "from sklearn.metrics import r2_score, mean_squared_error, mean_absolute_error,accuracy_score\n",
    "from sklearn.neighbors import KNeighborsClassifier\n",
    "from sklearn.ensemble import RandomForestClassifier"
   ]
  },
  {
   "cell_type": "markdown",
   "metadata": {},
   "source": [
    "### Librerias de Feature Selection y PCA"
   ]
  },
  {
   "cell_type": "code",
   "execution_count": 44,
   "metadata": {},
   "outputs": [],
   "source": [
    "from sklearn.feature_selection import SelectFromModel\n",
    "from sklearn.feature_selection import RFECV\n",
    "from sklearn import linear_model\n",
    "from sklearn.linear_model import LassoCV, LassoLarsCV, LassoLarsIC\n",
    "from sklearn.linear_model import Lasso\n",
    "from sklearn.linear_model import lasso_path\n",
    "from sklearn.feature_selection import VarianceThreshold\n",
    "# Importamos librerias de PCA\n",
    "from sklearn.decomposition import PCA"
   ]
  },
  {
   "cell_type": "markdown",
   "metadata": {},
   "source": [
    "# 2- Importacion del dataset y computacion de sus caracteristicas"
   ]
  },
  {
   "cell_type": "code",
   "execution_count": 45,
   "metadata": {},
   "outputs": [],
   "source": [
    "data_training= pd.read_csv(r\"C:\\Users\\Asus\\Desktop\\cs de datos palazzo\\ECI_2020.csv\", parse_dates=True)"
   ]
  },
  {
   "cell_type": "code",
   "execution_count": 46,
   "metadata": {},
   "outputs": [
    {
     "data": {
      "text/html": [
       "<div>\n",
       "<style scoped>\n",
       "    .dataframe tbody tr th:only-of-type {\n",
       "        vertical-align: middle;\n",
       "    }\n",
       "\n",
       "    .dataframe tbody tr th {\n",
       "        vertical-align: top;\n",
       "    }\n",
       "\n",
       "    .dataframe thead th {\n",
       "        text-align: right;\n",
       "    }\n",
       "</style>\n",
       "<table border=\"1\" class=\"dataframe\">\n",
       "  <thead>\n",
       "    <tr style=\"text-align: right;\">\n",
       "      <th></th>\n",
       "      <th>ID</th>\n",
       "      <th>Region</th>\n",
       "      <th>Territory</th>\n",
       "      <th>Pricing, Delivery_Terms_Quote_Appr</th>\n",
       "      <th>Pricing, Delivery_Terms_Approved</th>\n",
       "      <th>Bureaucratic_Code_0_Approval</th>\n",
       "      <th>Bureaucratic_Code_0_Approved</th>\n",
       "      <th>Submitted_for_Approval</th>\n",
       "      <th>Bureaucratic_Code</th>\n",
       "      <th>Account_Created_Date</th>\n",
       "      <th>...</th>\n",
       "      <th>Delivery_Quarter</th>\n",
       "      <th>Delivery_Year</th>\n",
       "      <th>Actual_Delivery_Date</th>\n",
       "      <th>TRF</th>\n",
       "      <th>Total_Amount_Currency</th>\n",
       "      <th>Total_Amount</th>\n",
       "      <th>Total_Taxable_Amount_Currency</th>\n",
       "      <th>Total_Taxable_Amount</th>\n",
       "      <th>Stage</th>\n",
       "      <th>Prod_Category_A</th>\n",
       "    </tr>\n",
       "  </thead>\n",
       "  <tbody>\n",
       "    <tr>\n",
       "      <td>0</td>\n",
       "      <td>27761</td>\n",
       "      <td>EMEA</td>\n",
       "      <td>None</td>\n",
       "      <td>1</td>\n",
       "      <td>1</td>\n",
       "      <td>1</td>\n",
       "      <td>1</td>\n",
       "      <td>0</td>\n",
       "      <td>Bureaucratic_Code_4</td>\n",
       "      <td>6/16/2015</td>\n",
       "      <td>...</td>\n",
       "      <td>Q2</td>\n",
       "      <td>2016</td>\n",
       "      <td>NaT</td>\n",
       "      <td>10</td>\n",
       "      <td>EUR</td>\n",
       "      <td>5272800.0</td>\n",
       "      <td>EUR</td>\n",
       "      <td>5272800.0</td>\n",
       "      <td>Closed Lost</td>\n",
       "      <td>Prod_Category_A_None</td>\n",
       "    </tr>\n",
       "    <tr>\n",
       "      <td>1</td>\n",
       "      <td>27760</td>\n",
       "      <td>EMEA</td>\n",
       "      <td>None</td>\n",
       "      <td>0</td>\n",
       "      <td>0</td>\n",
       "      <td>0</td>\n",
       "      <td>0</td>\n",
       "      <td>0</td>\n",
       "      <td>Bureaucratic_Code_4</td>\n",
       "      <td>6/16/2015</td>\n",
       "      <td>...</td>\n",
       "      <td>Q1</td>\n",
       "      <td>2016</td>\n",
       "      <td>NaT</td>\n",
       "      <td>0</td>\n",
       "      <td>EUR</td>\n",
       "      <td>48230.0</td>\n",
       "      <td>EUR</td>\n",
       "      <td>48230.0</td>\n",
       "      <td>Closed Won</td>\n",
       "      <td>Prod_Category_A_None</td>\n",
       "    </tr>\n",
       "    <tr>\n",
       "      <td>2</td>\n",
       "      <td>27446</td>\n",
       "      <td>Americas</td>\n",
       "      <td>NW America</td>\n",
       "      <td>0</td>\n",
       "      <td>0</td>\n",
       "      <td>0</td>\n",
       "      <td>0</td>\n",
       "      <td>0</td>\n",
       "      <td>Bureaucratic_Code_4</td>\n",
       "      <td>4/21/2015</td>\n",
       "      <td>...</td>\n",
       "      <td>Q1</td>\n",
       "      <td>2016</td>\n",
       "      <td>NaT</td>\n",
       "      <td>0</td>\n",
       "      <td>USD</td>\n",
       "      <td>83865.6</td>\n",
       "      <td>USD</td>\n",
       "      <td>83865.6</td>\n",
       "      <td>Closed Won</td>\n",
       "      <td>Prod_Category_A_None</td>\n",
       "    </tr>\n",
       "    <tr>\n",
       "      <td>3</td>\n",
       "      <td>16808</td>\n",
       "      <td>Americas</td>\n",
       "      <td>NW America</td>\n",
       "      <td>1</td>\n",
       "      <td>0</td>\n",
       "      <td>1</td>\n",
       "      <td>0</td>\n",
       "      <td>0</td>\n",
       "      <td>Bureaucratic_Code_5</td>\n",
       "      <td>7/27/2013</td>\n",
       "      <td>...</td>\n",
       "      <td>Q1</td>\n",
       "      <td>2018</td>\n",
       "      <td>NaT</td>\n",
       "      <td>14</td>\n",
       "      <td>USD</td>\n",
       "      <td>7421881.5</td>\n",
       "      <td>USD</td>\n",
       "      <td>7421881.5</td>\n",
       "      <td>Closed Lost</td>\n",
       "      <td>Prod_Category_A_None</td>\n",
       "    </tr>\n",
       "    <tr>\n",
       "      <td>4</td>\n",
       "      <td>16805</td>\n",
       "      <td>Americas</td>\n",
       "      <td>NW America</td>\n",
       "      <td>1</td>\n",
       "      <td>0</td>\n",
       "      <td>1</td>\n",
       "      <td>0</td>\n",
       "      <td>0</td>\n",
       "      <td>Bureaucratic_Code_5</td>\n",
       "      <td>7/27/2013</td>\n",
       "      <td>...</td>\n",
       "      <td>Q1</td>\n",
       "      <td>2018</td>\n",
       "      <td>NaT</td>\n",
       "      <td>25</td>\n",
       "      <td>USD</td>\n",
       "      <td>13357192.5</td>\n",
       "      <td>USD</td>\n",
       "      <td>13357192.5</td>\n",
       "      <td>Closed Lost</td>\n",
       "      <td>Prod_Category_A_None</td>\n",
       "    </tr>\n",
       "  </tbody>\n",
       "</table>\n",
       "<p>5 rows × 52 columns</p>\n",
       "</div>"
      ],
      "text/plain": [
       "      ID    Region   Territory  Pricing, Delivery_Terms_Quote_Appr  \\\n",
       "0  27761      EMEA        None                                   1   \n",
       "1  27760      EMEA        None                                   0   \n",
       "2  27446  Americas  NW America                                   0   \n",
       "3  16808  Americas  NW America                                   1   \n",
       "4  16805  Americas  NW America                                   1   \n",
       "\n",
       "   Pricing, Delivery_Terms_Approved  Bureaucratic_Code_0_Approval  \\\n",
       "0                                 1                             1   \n",
       "1                                 0                             0   \n",
       "2                                 0                             0   \n",
       "3                                 0                             1   \n",
       "4                                 0                             1   \n",
       "\n",
       "   Bureaucratic_Code_0_Approved  Submitted_for_Approval    Bureaucratic_Code  \\\n",
       "0                             1                       0  Bureaucratic_Code_4   \n",
       "1                             0                       0  Bureaucratic_Code_4   \n",
       "2                             0                       0  Bureaucratic_Code_4   \n",
       "3                             0                       0  Bureaucratic_Code_5   \n",
       "4                             0                       0  Bureaucratic_Code_5   \n",
       "\n",
       "  Account_Created_Date  ... Delivery_Quarter Delivery_Year  \\\n",
       "0            6/16/2015  ...               Q2          2016   \n",
       "1            6/16/2015  ...               Q1          2016   \n",
       "2            4/21/2015  ...               Q1          2016   \n",
       "3            7/27/2013  ...               Q1          2018   \n",
       "4            7/27/2013  ...               Q1          2018   \n",
       "\n",
       "  Actual_Delivery_Date TRF  Total_Amount_Currency Total_Amount  \\\n",
       "0                  NaT  10                    EUR    5272800.0   \n",
       "1                  NaT   0                    EUR      48230.0   \n",
       "2                  NaT   0                    USD      83865.6   \n",
       "3                  NaT  14                    USD    7421881.5   \n",
       "4                  NaT  25                    USD   13357192.5   \n",
       "\n",
       "  Total_Taxable_Amount_Currency Total_Taxable_Amount        Stage  \\\n",
       "0                           EUR            5272800.0  Closed Lost   \n",
       "1                           EUR              48230.0   Closed Won   \n",
       "2                           USD              83865.6   Closed Won   \n",
       "3                           USD            7421881.5  Closed Lost   \n",
       "4                           USD           13357192.5  Closed Lost   \n",
       "\n",
       "        Prod_Category_A  \n",
       "0  Prod_Category_A_None  \n",
       "1  Prod_Category_A_None  \n",
       "2  Prod_Category_A_None  \n",
       "3  Prod_Category_A_None  \n",
       "4  Prod_Category_A_None  \n",
       "\n",
       "[5 rows x 52 columns]"
      ]
     },
     "execution_count": 46,
     "metadata": {},
     "output_type": "execute_result"
    }
   ],
   "source": [
    "data_training.head()"
   ]
  },
  {
   "cell_type": "code",
   "execution_count": 47,
   "metadata": {},
   "outputs": [
    {
     "data": {
      "text/plain": [
       "(16947, 52)"
      ]
     },
     "execution_count": 47,
     "metadata": {},
     "output_type": "execute_result"
    }
   ],
   "source": [
    "data_training.shape"
   ]
  },
  {
   "cell_type": "markdown",
   "metadata": {},
   "source": [
    "# 2- Visualizaciones"
   ]
  },
  {
   "cell_type": "markdown",
   "metadata": {},
   "source": [
    "Para mayor entendimiento de los datos."
   ]
  },
  {
   "cell_type": "code",
   "execution_count": 48,
   "metadata": {},
   "outputs": [
    {
     "data": {
      "image/png": "[encoded data removed]",
      "text/plain": [
       "<Figure size 432x288 with 1 Axes>"
      ]
     },
     "metadata": {
      "needs_background": "light"
     },
     "output_type": "display_data"
    }
   ],
   "source": [
    "ax = sns.countplot(x=\"Region\", data=data_training)\n",
    "ax.set_xticklabels(ax.get_xticklabels(), rotation=40, ha=\"right\")\n",
    "plt.title(\"\")\n",
    "plt.show()"
   ]
  },
  {
   "cell_type": "code",
   "execution_count": 49,
   "metadata": {},
   "outputs": [
    {
     "data": {
      "image/png": "[encoded data removed]",
      "text/plain": [
       "<Figure size 1080x216 with 1 Axes>"
      ]
     },
     "metadata": {
      "needs_background": "light"
     },
     "output_type": "display_data"
    }
   ],
   "source": [
    "top_countries = data_training['Territory'].value_counts().index[1:10]\n",
    "\n",
    "#Se empieza a contar desde el 1 porque contando desde el 0, el pais con mayor cantidad de registros es \"None\"\n",
    "plt.figure(figsize=(15,3))\n",
    "g = sns.countplot(data_training['Territory'], palette = \"muted\",order=top_countries)\n",
    "g.set_xticklabels(g.get_xticklabels(), rotation=40, ha=\"right\")\n",
    "plt.title('Registros por pais',size = 20)\n",
    "plt.xlabel(\"Pais\")\n",
    "plt.ylabel(\"Count\")\n",
    "plt.show()"
   ]
  },
  {
   "cell_type": "code",
   "execution_count": 50,
   "metadata": {},
   "outputs": [
    {
     "data": {
      "image/png": "[encoded data removed]",
      "text/plain": [
       "<Figure size 432x288 with 1 Axes>"
      ]
     },
     "metadata": {
      "needs_background": "light"
     },
     "output_type": "display_data"
    }
   ],
   "source": [
    "ax = sns.countplot(x=\"Stage\", data=data_training)\n",
    "ax.set_xticklabels(ax.get_xticklabels(), rotation=40, ha=\"right\")\n",
    "plt.title(\"\")\n",
    "plt.show()"
   ]
  },
  {
   "cell_type": "code",
   "execution_count": 51,
   "metadata": {},
   "outputs": [
    {
     "data": {
      "image/png": "[encoded data removed]",
      "text/plain": [
       "<Figure size 1080x720 with 2 Axes>"
      ]
     },
     "metadata": {
      "needs_background": "light"
     },
     "output_type": "display_data"
    }
   ],
   "source": [
    "plt.figure(figsize = (15,10))\n",
    "sns.heatmap(data_training.corr('pearson'), annot= True, cmap=\"YlGnBu\")\n",
    "plt.show()"
   ]
  },
  {
   "cell_type": "markdown",
   "metadata": {},
   "source": [
    "# 3- Data Cleaning"
   ]
  },
  {
   "cell_type": "markdown",
   "metadata": {},
   "source": [
    "Se observa que el dataset tiene una gran cantidad de features, muchas se asume que no aportan informacion de interes al modelo por lo que se decide eliminarlas para enfocar los esfuerzos en aquellas que si importan."
   ]
  },
  {
   "cell_type": "code",
   "execution_count": 52,
   "metadata": {},
   "outputs": [],
   "source": [
    "data_training = data_training.drop([\"Submitted_for_Approval\",\"Account_Name\",\"Opportunity_Name\",\"Last_Activity\",\"Quote_Expiry_Date\",\n",
    "\"Brand\",\"Opportunity_ID\",\"Sales_Contract_No\",\"Account_Owner\",\"Opportunity_Created_Date\",\"Last_Modified_Date\",\"Last_Modified_By\",\n",
    " \"Month\",\"Delivery_Quarter\",\"Actual_Delivery_Date\",\"Prod_Category_A\",\"Opportunity_Type\",\"Account_Created_Date\",\"Source \"\n",
    ",\"Territory\",\"Product_Type\",\"Price\",\"Currency\",\"Quote_Type\",\"ASP_(converted)_Currency\",\"Product_Name\",\"Delivery_Year\",\"Size\",\n",
    "\"Total_Taxable_Amount_Currency\",\"ASP_Currency\",\"ID\"], axis=1)"
   ]
  },
  {
   "cell_type": "code",
   "execution_count": 53,
   "metadata": {},
   "outputs": [
    {
     "data": {
      "text/html": [
       "<div>\n",
       "<style scoped>\n",
       "    .dataframe tbody tr th:only-of-type {\n",
       "        vertical-align: middle;\n",
       "    }\n",
       "\n",
       "    .dataframe tbody tr th {\n",
       "        vertical-align: top;\n",
       "    }\n",
       "\n",
       "    .dataframe thead th {\n",
       "        text-align: right;\n",
       "    }\n",
       "</style>\n",
       "<table border=\"1\" class=\"dataframe\">\n",
       "  <thead>\n",
       "    <tr style=\"text-align: right;\">\n",
       "      <th></th>\n",
       "      <th>Region</th>\n",
       "      <th>Pricing, Delivery_Terms_Quote_Appr</th>\n",
       "      <th>Pricing, Delivery_Terms_Approved</th>\n",
       "      <th>Bureaucratic_Code_0_Approval</th>\n",
       "      <th>Bureaucratic_Code_0_Approved</th>\n",
       "      <th>Bureaucratic_Code</th>\n",
       "      <th>Billing_Country</th>\n",
       "      <th>Opportunity_Owner</th>\n",
       "      <th>Account_Type</th>\n",
       "      <th>Delivery_Terms</th>\n",
       "      <th>...</th>\n",
       "      <th>Product_Family</th>\n",
       "      <th>ASP</th>\n",
       "      <th>ASP_(converted)</th>\n",
       "      <th>Planned_Delivery_Start_Date</th>\n",
       "      <th>Planned_Delivery_End_Date</th>\n",
       "      <th>TRF</th>\n",
       "      <th>Total_Amount_Currency</th>\n",
       "      <th>Total_Amount</th>\n",
       "      <th>Total_Taxable_Amount</th>\n",
       "      <th>Stage</th>\n",
       "    </tr>\n",
       "  </thead>\n",
       "  <tbody>\n",
       "    <tr>\n",
       "      <td>0</td>\n",
       "      <td>EMEA</td>\n",
       "      <td>1</td>\n",
       "      <td>1</td>\n",
       "      <td>1</td>\n",
       "      <td>1</td>\n",
       "      <td>Bureaucratic_Code_4</td>\n",
       "      <td>Netherlands</td>\n",
       "      <td>Person_Name_18</td>\n",
       "      <td>Account_Type_2</td>\n",
       "      <td>Delivery_Terms_2</td>\n",
       "      <td>...</td>\n",
       "      <td>Product_Family_77</td>\n",
       "      <td>0.52</td>\n",
       "      <td>0.58817</td>\n",
       "      <td>5/1/2016</td>\n",
       "      <td>6/30/2016</td>\n",
       "      <td>10</td>\n",
       "      <td>EUR</td>\n",
       "      <td>5272800.0</td>\n",
       "      <td>5272800.0</td>\n",
       "      <td>Closed Lost</td>\n",
       "    </tr>\n",
       "    <tr>\n",
       "      <td>1</td>\n",
       "      <td>EMEA</td>\n",
       "      <td>0</td>\n",
       "      <td>0</td>\n",
       "      <td>0</td>\n",
       "      <td>0</td>\n",
       "      <td>Bureaucratic_Code_4</td>\n",
       "      <td>Netherlands</td>\n",
       "      <td>Person_Name_20</td>\n",
       "      <td>Account_Type_2</td>\n",
       "      <td>Delivery_Terms_2</td>\n",
       "      <td>...</td>\n",
       "      <td>Product_Family_77</td>\n",
       "      <td>0.53</td>\n",
       "      <td>0.59948</td>\n",
       "      <td>1/18/2016</td>\n",
       "      <td>1/20/2016</td>\n",
       "      <td>0</td>\n",
       "      <td>EUR</td>\n",
       "      <td>48230.0</td>\n",
       "      <td>48230.0</td>\n",
       "      <td>Closed Won</td>\n",
       "    </tr>\n",
       "    <tr>\n",
       "      <td>2</td>\n",
       "      <td>Americas</td>\n",
       "      <td>0</td>\n",
       "      <td>0</td>\n",
       "      <td>0</td>\n",
       "      <td>0</td>\n",
       "      <td>Bureaucratic_Code_4</td>\n",
       "      <td>United States</td>\n",
       "      <td>Person_Name_8</td>\n",
       "      <td>Account_Type_5</td>\n",
       "      <td>Delivery_Terms_4</td>\n",
       "      <td>...</td>\n",
       "      <td>Product_Family_81</td>\n",
       "      <td>0.48</td>\n",
       "      <td>0.48000</td>\n",
       "      <td>1/25/2016</td>\n",
       "      <td>1/25/2016</td>\n",
       "      <td>0</td>\n",
       "      <td>USD</td>\n",
       "      <td>83865.6</td>\n",
       "      <td>83865.6</td>\n",
       "      <td>Closed Won</td>\n",
       "    </tr>\n",
       "    <tr>\n",
       "      <td>3</td>\n",
       "      <td>Americas</td>\n",
       "      <td>1</td>\n",
       "      <td>0</td>\n",
       "      <td>1</td>\n",
       "      <td>0</td>\n",
       "      <td>Bureaucratic_Code_5</td>\n",
       "      <td>United States</td>\n",
       "      <td>Person_Name_8</td>\n",
       "      <td>Account_Type_5</td>\n",
       "      <td>Delivery_Terms_1</td>\n",
       "      <td>...</td>\n",
       "      <td>Product_Family_209</td>\n",
       "      <td>0.53</td>\n",
       "      <td>0.53000</td>\n",
       "      <td>2/1/2018</td>\n",
       "      <td>3/31/2018</td>\n",
       "      <td>14</td>\n",
       "      <td>USD</td>\n",
       "      <td>7421881.5</td>\n",
       "      <td>7421881.5</td>\n",
       "      <td>Closed Lost</td>\n",
       "    </tr>\n",
       "    <tr>\n",
       "      <td>4</td>\n",
       "      <td>Americas</td>\n",
       "      <td>1</td>\n",
       "      <td>0</td>\n",
       "      <td>1</td>\n",
       "      <td>0</td>\n",
       "      <td>Bureaucratic_Code_5</td>\n",
       "      <td>United States</td>\n",
       "      <td>Person_Name_8</td>\n",
       "      <td>Account_Type_5</td>\n",
       "      <td>Delivery_Terms_1</td>\n",
       "      <td>...</td>\n",
       "      <td>Product_Family_209</td>\n",
       "      <td>0.53</td>\n",
       "      <td>0.53000</td>\n",
       "      <td>2/1/2018</td>\n",
       "      <td>2/28/2018</td>\n",
       "      <td>25</td>\n",
       "      <td>USD</td>\n",
       "      <td>13357192.5</td>\n",
       "      <td>13357192.5</td>\n",
       "      <td>Closed Lost</td>\n",
       "    </tr>\n",
       "  </tbody>\n",
       "</table>\n",
       "<p>5 rows × 21 columns</p>\n",
       "</div>"
      ],
      "text/plain": [
       "     Region  Pricing, Delivery_Terms_Quote_Appr  \\\n",
       "0      EMEA                                   1   \n",
       "1      EMEA                                   0   \n",
       "2  Americas                                   0   \n",
       "3  Americas                                   1   \n",
       "4  Americas                                   1   \n",
       "\n",
       "   Pricing, Delivery_Terms_Approved  Bureaucratic_Code_0_Approval  \\\n",
       "0                                 1                             1   \n",
       "1                                 0                             0   \n",
       "2                                 0                             0   \n",
       "3                                 0                             1   \n",
       "4                                 0                             1   \n",
       "\n",
       "   Bureaucratic_Code_0_Approved    Bureaucratic_Code Billing_Country  \\\n",
       "0                             1  Bureaucratic_Code_4     Netherlands   \n",
       "1                             0  Bureaucratic_Code_4     Netherlands   \n",
       "2                             0  Bureaucratic_Code_4   United States   \n",
       "3                             0  Bureaucratic_Code_5   United States   \n",
       "4                             0  Bureaucratic_Code_5   United States   \n",
       "\n",
       "  Opportunity_Owner    Account_Type    Delivery_Terms  ...  \\\n",
       "0    Person_Name_18  Account_Type_2  Delivery_Terms_2  ...   \n",
       "1    Person_Name_20  Account_Type_2  Delivery_Terms_2  ...   \n",
       "2     Person_Name_8  Account_Type_5  Delivery_Terms_4  ...   \n",
       "3     Person_Name_8  Account_Type_5  Delivery_Terms_1  ...   \n",
       "4     Person_Name_8  Account_Type_5  Delivery_Terms_1  ...   \n",
       "\n",
       "       Product_Family   ASP  ASP_(converted)  Planned_Delivery_Start_Date  \\\n",
       "0   Product_Family_77  0.52          0.58817                     5/1/2016   \n",
       "1   Product_Family_77  0.53          0.59948                    1/18/2016   \n",
       "2   Product_Family_81  0.48          0.48000                    1/25/2016   \n",
       "3  Product_Family_209  0.53          0.53000                     2/1/2018   \n",
       "4  Product_Family_209  0.53          0.53000                     2/1/2018   \n",
       "\n",
       "  Planned_Delivery_End_Date TRF  Total_Amount_Currency Total_Amount  \\\n",
       "0                 6/30/2016  10                    EUR    5272800.0   \n",
       "1                 1/20/2016   0                    EUR      48230.0   \n",
       "2                 1/25/2016   0                    USD      83865.6   \n",
       "3                 3/31/2018  14                    USD    7421881.5   \n",
       "4                 2/28/2018  25                    USD   13357192.5   \n",
       "\n",
       "   Total_Taxable_Amount        Stage  \n",
       "0             5272800.0  Closed Lost  \n",
       "1               48230.0   Closed Won  \n",
       "2               83865.6   Closed Won  \n",
       "3             7421881.5  Closed Lost  \n",
       "4            13357192.5  Closed Lost  \n",
       "\n",
       "[5 rows x 21 columns]"
      ]
     },
     "execution_count": 53,
     "metadata": {},
     "output_type": "execute_result"
    }
   ],
   "source": [
    "data_training.head()"
   ]
  },
  {
   "cell_type": "markdown",
   "metadata": {},
   "source": [
    "Como se expreso anteriormente el objetivo del modelo es clasificar las oportunidades de negocio y diferenciar las que tienen mayores chances de ser exitosas respecto de las que no, para priorizar el trabajo de los comerciales en dichas ofertas. Dado que las que aun no tienen un outcome no le suman informacion al proyecto e imposibilitan la posibilidad de crear variables dummy binarias, se las elimina."
   ]
  },
  {
   "cell_type": "code",
   "execution_count": 54,
   "metadata": {},
   "outputs": [],
   "source": [
    "data_training = data_training[data_training['Stage'] != 'Proposal']\n",
    "data_training = data_training[data_training['Stage'] != 'Negotiation']\n",
    "data_training = data_training[data_training['Stage'] != 'Qualification']"
   ]
  },
  {
   "cell_type": "code",
   "execution_count": 55,
   "metadata": {},
   "outputs": [
    {
     "data": {
      "text/plain": [
       "(16883, 21)"
      ]
     },
     "execution_count": 55,
     "metadata": {},
     "output_type": "execute_result"
    }
   ],
   "source": [
    "data_training.shape"
   ]
  },
  {
   "cell_type": "markdown",
   "metadata": {},
   "source": [
    "Se unifican las cantidades monetarios a dolares"
   ]
  },
  {
   "cell_type": "code",
   "execution_count": 56,
   "metadata": {},
   "outputs": [],
   "source": [
    "data_training[\"Total_Amount_USD\"] = (data_training[\"Total_Amount\"]/data_training[\"ASP\"])*data_training[\"ASP_(converted)\"]"
   ]
  },
  {
   "cell_type": "code",
   "execution_count": 57,
   "metadata": {},
   "outputs": [],
   "source": [
    "data_training = data_training.drop([\"Total_Amount\",\"ASP\",\"ASP_(converted)\"], axis=1)"
   ]
  },
  {
   "cell_type": "code",
   "execution_count": 58,
   "metadata": {},
   "outputs": [
    {
     "data": {
      "text/plain": [
       "Region                                False\n",
       "Pricing, Delivery_Terms_Quote_Appr    False\n",
       "Pricing, Delivery_Terms_Approved      False\n",
       "Bureaucratic_Code_0_Approval          False\n",
       "Bureaucratic_Code_0_Approved          False\n",
       "Bureaucratic_Code                     False\n",
       "Billing_Country                       False\n",
       "Opportunity_Owner                     False\n",
       "Account_Type                          False\n",
       "Delivery_Terms                        False\n",
       "Product_Category_B                    False\n",
       "Product_Family                        False\n",
       "Planned_Delivery_Start_Date           False\n",
       "Planned_Delivery_End_Date             False\n",
       "TRF                                   False\n",
       "Total_Amount_Currency                 False\n",
       "Total_Taxable_Amount                  False\n",
       "Stage                                 False\n",
       "Total_Amount_USD                       True\n",
       "dtype: bool"
      ]
     },
     "execution_count": 58,
     "metadata": {},
     "output_type": "execute_result"
    }
   ],
   "source": [
    "data_training.isnull().any()"
   ]
  },
  {
   "cell_type": "code",
   "execution_count": 59,
   "metadata": {},
   "outputs": [
    {
     "data": {
      "text/plain": [
       "Index(['Region', 'Bureaucratic_Code', 'Billing_Country', 'Opportunity_Owner',\n",
       "       'Account_Type', 'Delivery_Terms', 'Product_Category_B',\n",
       "       'Product_Family', 'Planned_Delivery_Start_Date',\n",
       "       'Planned_Delivery_End_Date', 'Total_Amount_Currency', 'Stage'],\n",
       "      dtype='object')"
      ]
     },
     "execution_count": 59,
     "metadata": {},
     "output_type": "execute_result"
    }
   ],
   "source": [
    "categorical_features = data_training.select_dtypes(include=['object']).columns\n",
    "categorical_features"
   ]
  },
  {
   "cell_type": "code",
   "execution_count": 60,
   "metadata": {},
   "outputs": [],
   "source": [
    "bureaucratric_code_dummy= pd.get_dummies(data_training.Bureaucratic_Code)\n",
    "account_type_dummy=pd.get_dummies(data_training.Account_Type)\n",
    "delivery_terms_dummy=pd.get_dummies(data_training.Delivery_Terms)\n",
    "region_dummy=pd.get_dummies(data_training.Region)\n",
    "billing_country_dummy=pd.get_dummies(data_training.Billing_Country)\n",
    "opportunity_owner_dummy=pd.get_dummies(data_training.Opportunity_Owner)\n",
    "product_family_dummy=pd.get_dummies(data_training.Product_Family)\n",
    "stage_dummy=pd.get_dummies(data_training.Stage)"
   ]
  },
  {
   "cell_type": "markdown",
   "metadata": {},
   "source": [
    "Las variables Planned_Delivery_Start_Date y Planned_Delivery_End_Date son utilizadas para calcular la cantidad de dias que duro la operacion."
   ]
  },
  {
   "cell_type": "code",
   "execution_count": 61,
   "metadata": {},
   "outputs": [],
   "source": [
    "data_training['Planned_Delivery_Start_Date'] = pd.to_datetime(data_training['Planned_Delivery_Start_Date'])\n",
    "data_training['Planned_Delivery_End_Date'] = pd.to_datetime(data_training['Planned_Delivery_End_Date'])"
   ]
  },
  {
   "cell_type": "code",
   "execution_count": 62,
   "metadata": {},
   "outputs": [],
   "source": [
    "data_training['Lenght_of_Operation'] = data_training['Planned_Delivery_End_Date'] - data_training['Planned_Delivery_Start_Date']\n"
   ]
  },
  {
   "cell_type": "code",
   "execution_count": 63,
   "metadata": {},
   "outputs": [],
   "source": [
    "data_training['Total_Days'] = data_training['Lenght_of_Operation'].dt.days.astype('float')"
   ]
  },
  {
   "cell_type": "code",
   "execution_count": 64,
   "metadata": {},
   "outputs": [],
   "source": [
    "data_training = pd.concat([data_training,bureaucratric_code_dummy,account_type_dummy,delivery_terms_dummy,region_dummy,billing_country_dummy,opportunity_owner_dummy,product_family_dummy,stage_dummy], axis=1)"
   ]
  },
  {
   "cell_type": "code",
   "execution_count": 65,
   "metadata": {},
   "outputs": [],
   "source": [
    "data_training= data_training.drop([\"Stage\",\"Closed Won\"], axis=1)\n",
    "data_training= data_training.drop([\"Region\",\"Bureaucratic_Code\",\"Billing_Country\",\"Opportunity_Owner\",\"Account_Type\",\"Delivery_Terms\",\"Product_Family\",\"Product_Category_B\",\"Planned_Delivery_Start_Date\",\"Planned_Delivery_End_Date\",\"Total_Amount_Currency\",'Lenght_of_Operation'], axis=1)"
   ]
  },
  {
   "cell_type": "code",
   "execution_count": 66,
   "metadata": {},
   "outputs": [
    {
     "data": {
      "text/html": [
       "<div>\n",
       "<style scoped>\n",
       "    .dataframe tbody tr th:only-of-type {\n",
       "        vertical-align: middle;\n",
       "    }\n",
       "\n",
       "    .dataframe tbody tr th {\n",
       "        vertical-align: top;\n",
       "    }\n",
       "\n",
       "    .dataframe thead th {\n",
       "        text-align: right;\n",
       "    }\n",
       "</style>\n",
       "<table border=\"1\" class=\"dataframe\">\n",
       "  <thead>\n",
       "    <tr style=\"text-align: right;\">\n",
       "      <th></th>\n",
       "      <th>Pricing, Delivery_Terms_Quote_Appr</th>\n",
       "      <th>Pricing, Delivery_Terms_Approved</th>\n",
       "      <th>Bureaucratic_Code_0_Approval</th>\n",
       "      <th>Bureaucratic_Code_0_Approved</th>\n",
       "      <th>TRF</th>\n",
       "      <th>Total_Taxable_Amount</th>\n",
       "      <th>Total_Amount_USD</th>\n",
       "      <th>Total_Days</th>\n",
       "      <th>Bureaucratic_Code_0</th>\n",
       "      <th>Bureaucratic_Code_1</th>\n",
       "      <th>...</th>\n",
       "      <th>Product_Family_91</th>\n",
       "      <th>Product_Family_92</th>\n",
       "      <th>Product_Family_93</th>\n",
       "      <th>Product_Family_94</th>\n",
       "      <th>Product_Family_95</th>\n",
       "      <th>Product_Family_96</th>\n",
       "      <th>Product_Family_97</th>\n",
       "      <th>Product_Family_98</th>\n",
       "      <th>Product_Family_99</th>\n",
       "      <th>Closed Lost</th>\n",
       "    </tr>\n",
       "  </thead>\n",
       "  <tbody>\n",
       "    <tr>\n",
       "      <td>0</td>\n",
       "      <td>1</td>\n",
       "      <td>1</td>\n",
       "      <td>1</td>\n",
       "      <td>1</td>\n",
       "      <td>10</td>\n",
       "      <td>5272800.0</td>\n",
       "      <td>5964043.80</td>\n",
       "      <td>60.0</td>\n",
       "      <td>0</td>\n",
       "      <td>0</td>\n",
       "      <td>...</td>\n",
       "      <td>0</td>\n",
       "      <td>0</td>\n",
       "      <td>0</td>\n",
       "      <td>0</td>\n",
       "      <td>0</td>\n",
       "      <td>0</td>\n",
       "      <td>0</td>\n",
       "      <td>0</td>\n",
       "      <td>0</td>\n",
       "      <td>1</td>\n",
       "    </tr>\n",
       "    <tr>\n",
       "      <td>1</td>\n",
       "      <td>0</td>\n",
       "      <td>0</td>\n",
       "      <td>0</td>\n",
       "      <td>0</td>\n",
       "      <td>0</td>\n",
       "      <td>48230.0</td>\n",
       "      <td>54552.68</td>\n",
       "      <td>2.0</td>\n",
       "      <td>0</td>\n",
       "      <td>0</td>\n",
       "      <td>...</td>\n",
       "      <td>0</td>\n",
       "      <td>0</td>\n",
       "      <td>0</td>\n",
       "      <td>0</td>\n",
       "      <td>0</td>\n",
       "      <td>0</td>\n",
       "      <td>0</td>\n",
       "      <td>0</td>\n",
       "      <td>0</td>\n",
       "      <td>0</td>\n",
       "    </tr>\n",
       "    <tr>\n",
       "      <td>2</td>\n",
       "      <td>0</td>\n",
       "      <td>0</td>\n",
       "      <td>0</td>\n",
       "      <td>0</td>\n",
       "      <td>0</td>\n",
       "      <td>83865.6</td>\n",
       "      <td>83865.60</td>\n",
       "      <td>0.0</td>\n",
       "      <td>0</td>\n",
       "      <td>0</td>\n",
       "      <td>...</td>\n",
       "      <td>0</td>\n",
       "      <td>0</td>\n",
       "      <td>0</td>\n",
       "      <td>0</td>\n",
       "      <td>0</td>\n",
       "      <td>0</td>\n",
       "      <td>0</td>\n",
       "      <td>0</td>\n",
       "      <td>0</td>\n",
       "      <td>0</td>\n",
       "    </tr>\n",
       "    <tr>\n",
       "      <td>3</td>\n",
       "      <td>1</td>\n",
       "      <td>0</td>\n",
       "      <td>1</td>\n",
       "      <td>0</td>\n",
       "      <td>14</td>\n",
       "      <td>7421881.5</td>\n",
       "      <td>7421881.50</td>\n",
       "      <td>58.0</td>\n",
       "      <td>0</td>\n",
       "      <td>0</td>\n",
       "      <td>...</td>\n",
       "      <td>0</td>\n",
       "      <td>0</td>\n",
       "      <td>0</td>\n",
       "      <td>0</td>\n",
       "      <td>0</td>\n",
       "      <td>0</td>\n",
       "      <td>0</td>\n",
       "      <td>0</td>\n",
       "      <td>0</td>\n",
       "      <td>1</td>\n",
       "    </tr>\n",
       "    <tr>\n",
       "      <td>4</td>\n",
       "      <td>1</td>\n",
       "      <td>0</td>\n",
       "      <td>1</td>\n",
       "      <td>0</td>\n",
       "      <td>25</td>\n",
       "      <td>13357192.5</td>\n",
       "      <td>13357192.50</td>\n",
       "      <td>27.0</td>\n",
       "      <td>0</td>\n",
       "      <td>0</td>\n",
       "      <td>...</td>\n",
       "      <td>0</td>\n",
       "      <td>0</td>\n",
       "      <td>0</td>\n",
       "      <td>0</td>\n",
       "      <td>0</td>\n",
       "      <td>0</td>\n",
       "      <td>0</td>\n",
       "      <td>0</td>\n",
       "      <td>0</td>\n",
       "      <td>1</td>\n",
       "    </tr>\n",
       "  </tbody>\n",
       "</table>\n",
       "<p>5 rows × 394 columns</p>\n",
       "</div>"
      ],
      "text/plain": [
       "   Pricing, Delivery_Terms_Quote_Appr  Pricing, Delivery_Terms_Approved  \\\n",
       "0                                   1                                 1   \n",
       "1                                   0                                 0   \n",
       "2                                   0                                 0   \n",
       "3                                   1                                 0   \n",
       "4                                   1                                 0   \n",
       "\n",
       "   Bureaucratic_Code_0_Approval  Bureaucratic_Code_0_Approved  TRF  \\\n",
       "0                             1                             1   10   \n",
       "1                             0                             0    0   \n",
       "2                             0                             0    0   \n",
       "3                             1                             0   14   \n",
       "4                             1                             0   25   \n",
       "\n",
       "   Total_Taxable_Amount  Total_Amount_USD  Total_Days  Bureaucratic_Code_0  \\\n",
       "0             5272800.0        5964043.80        60.0                    0   \n",
       "1               48230.0          54552.68         2.0                    0   \n",
       "2               83865.6          83865.60         0.0                    0   \n",
       "3             7421881.5        7421881.50        58.0                    0   \n",
       "4            13357192.5       13357192.50        27.0                    0   \n",
       "\n",
       "   Bureaucratic_Code_1  ...  Product_Family_91  Product_Family_92  \\\n",
       "0                    0  ...                  0                  0   \n",
       "1                    0  ...                  0                  0   \n",
       "2                    0  ...                  0                  0   \n",
       "3                    0  ...                  0                  0   \n",
       "4                    0  ...                  0                  0   \n",
       "\n",
       "   Product_Family_93  Product_Family_94  Product_Family_95  Product_Family_96  \\\n",
       "0                  0                  0                  0                  0   \n",
       "1                  0                  0                  0                  0   \n",
       "2                  0                  0                  0                  0   \n",
       "3                  0                  0                  0                  0   \n",
       "4                  0                  0                  0                  0   \n",
       "\n",
       "   Product_Family_97  Product_Family_98  Product_Family_99  Closed Lost  \n",
       "0                  0                  0                  0            1  \n",
       "1                  0                  0                  0            0  \n",
       "2                  0                  0                  0            0  \n",
       "3                  0                  0                  0            1  \n",
       "4                  0                  0                  0            1  \n",
       "\n",
       "[5 rows x 394 columns]"
      ]
     },
     "execution_count": 66,
     "metadata": {},
     "output_type": "execute_result"
    }
   ],
   "source": [
    "data_training.head()"
   ]
  },
  {
   "cell_type": "code",
   "execution_count": 67,
   "metadata": {},
   "outputs": [],
   "source": [
    "data_training=data_training.dropna()"
   ]
  },
  {
   "cell_type": "code",
   "execution_count": 68,
   "metadata": {},
   "outputs": [
    {
     "data": {
      "text/plain": [
       "(13255, 394)"
      ]
     },
     "execution_count": 68,
     "metadata": {},
     "output_type": "execute_result"
    }
   ],
   "source": [
    "data_training.shape"
   ]
  },
  {
   "cell_type": "code",
   "execution_count": 69,
   "metadata": {},
   "outputs": [
    {
     "data": {
      "text/plain": [
       "Pricing, Delivery_Terms_Quote_Appr      1.0\n",
       "Pricing, Delivery_Terms_Approved        1.0\n",
       "Bureaucratic_Code_0_Approval            1.0\n",
       "Bureaucratic_Code_0_Approved            1.0\n",
       "TRF                                   500.0\n",
       "                                      ...  \n",
       "Product_Family_96                       1.0\n",
       "Product_Family_97                       1.0\n",
       "Product_Family_98                       1.0\n",
       "Product_Family_99                       1.0\n",
       "Closed Lost                             1.0\n",
       "Length: 394, dtype: float64"
      ]
     },
     "execution_count": 69,
     "metadata": {},
     "output_type": "execute_result"
    }
   ],
   "source": [
    "data_training.max()"
   ]
  },
  {
   "cell_type": "code",
   "execution_count": 70,
   "metadata": {},
   "outputs": [
    {
     "name": "stdout",
     "output_type": "stream",
     "text": [
      "el cuantil 0.97 de la feature 'price' es = 10481860.44937499\n"
     ]
    }
   ],
   "source": [
    "Total_Amount_USD_975 = data_training.Total_Amount_USD.quantile(0.975)\n",
    "print(\"el cuantil 0.97 de la feature 'price' es = \" + str(Total_Amount_USD_975))"
   ]
  },
  {
   "cell_type": "code",
   "execution_count": 71,
   "metadata": {},
   "outputs": [],
   "source": [
    "# aca filtro y conservo los valores que cumplen las dos condiciones al mismo tiempo\n",
    "data_training = data_training.loc[(data_training.Total_Amount_USD < Total_Amount_USD_975)]"
   ]
  },
  {
   "cell_type": "markdown",
   "metadata": {},
   "source": [
    "# 4- Visualizaciones con el Dataset procesado."
   ]
  },
  {
   "cell_type": "code",
   "execution_count": 72,
   "metadata": {},
   "outputs": [
    {
     "data": {
      "image/png": "[encoded data removed]",
      "text/plain": [
       "<Figure size 432x288 with 1 Axes>"
      ]
     },
     "metadata": {
      "needs_background": "light"
     },
     "output_type": "display_data"
    }
   ],
   "source": [
    "plt.boxplot(data_training['Total_Amount_USD'])\n",
    "plt.title('Boxplot del precio de la operacion')\n",
    "plt.ylabel('Precio')\n",
    "plt.xlabel(\"Operacion\")\n",
    "plt.show()"
   ]
  },
  {
   "cell_type": "code",
   "execution_count": 73,
   "metadata": {},
   "outputs": [
    {
     "data": {
      "image/png": "[encoded data removed]",
      "text/plain": [
       "<Figure size 432x288 with 1 Axes>"
      ]
     },
     "metadata": {
      "needs_background": "light"
     },
     "output_type": "display_data"
    },
    {
     "data": {
      "image/png": "[encoded data removed]",
      "text/plain": [
       "<Figure size 432x288 with 1 Axes>"
      ]
     },
     "metadata": {
      "needs_background": "light"
     },
     "output_type": "display_data"
    }
   ],
   "source": [
    "sns.distplot(data_training[\"Total_Amount_USD\"])\n",
    "plt.title('Distribución de Precio de la operacion.')\n",
    "plt.show()\n",
    "\n",
    "#Plot Log-Precio\n",
    "sns.distplot(np.log(1+data_training[\"Total_Amount_USD\"]),color='b')\n",
    "plt.xlabel(\"Price\")\n",
    "plt.show()"
   ]
  },
  {
   "cell_type": "code",
   "execution_count": 74,
   "metadata": {},
   "outputs": [
    {
     "data": {
      "text/plain": [
       "(array([0, 1]), <a list of 2 Text xticklabel objects>)"
      ]
     },
     "execution_count": 74,
     "metadata": {},
     "output_type": "execute_result"
    },
    {
     "data": {
      "image/png": "[encoded data removed]",
      "text/plain": [
       "<Figure size 1008x432 with 1 Axes>"
      ]
     },
     "metadata": {
      "needs_background": "light"
     },
     "output_type": "display_data"
    }
   ],
   "source": [
    "fig = plt.figure(figsize = (14,6))\n",
    "sns.barplot(x = 'Closed Lost', y = 'Total_Days', data = data_training, palette=\"winter\")\n",
    "plt.xticks(rotation=0)"
   ]
  },
  {
   "cell_type": "code",
   "execution_count": null,
   "metadata": {},
   "outputs": [],
   "source": []
  }
 ],
 "metadata": {
  "kernelspec": {
   "display_name": "Python 3",
   "language": "python",
   "name": "python3"
  },
  "language_info": {
   "codemirror_mode": {
    "name": "ipython",
    "version": 3
   },
   "file_extension": ".py",
   "mimetype": "text/x-python",
   "name": "python",
   "nbconvert_exporter": "python",
   "pygments_lexer": "ipython3",
   "version": "3.7.4"
  }
 },
 "nbformat": 4,
 "nbformat_minor": 2
}
